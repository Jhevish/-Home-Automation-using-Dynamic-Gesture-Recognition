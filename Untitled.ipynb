{
 "cells": [
  {
   "cell_type": "code",
   "execution_count": 1,
   "id": "47ca2950-dc23-4e4a-b2de-9836afc9ac11",
   "metadata": {},
   "outputs": [
    {
     "name": "stdout",
     "output_type": "stream",
     "text": [
      "Collecting keras-tuner\n",
      "  Downloading keras_tuner-1.4.7-py3-none-any.whl (129 kB)\n",
      "     ---------------------------------------- 0.0/129.1 kB ? eta -:--:--\n",
      "     -------------------------------------- 129.1/129.1 kB 3.7 MB/s eta 0:00:00\n",
      "Requirement already satisfied: requests in c:\\users\\jhevish\\downloads\\handgesture28july\\env\\lib\\site-packages (from keras-tuner) (2.32.3)\n",
      "Requirement already satisfied: packaging in c:\\users\\jhevish\\downloads\\handgesture28july\\env\\lib\\site-packages (from keras-tuner) (24.1)\n",
      "Requirement already satisfied: keras in c:\\users\\jhevish\\downloads\\handgesture28july\\env\\lib\\site-packages (from keras-tuner) (3.4.1)\n",
      "Collecting kt-legacy\n",
      "  Downloading kt_legacy-1.0.5-py3-none-any.whl (9.6 kB)\n",
      "Requirement already satisfied: optree in c:\\users\\jhevish\\downloads\\handgesture28july\\env\\lib\\site-packages (from keras->keras-tuner) (0.12.1)\n",
      "Requirement already satisfied: h5py in c:\\users\\jhevish\\downloads\\handgesture28july\\env\\lib\\site-packages (from keras->keras-tuner) (3.11.0)\n",
      "Requirement already satisfied: numpy in c:\\users\\jhevish\\downloads\\handgesture28july\\env\\lib\\site-packages (from keras->keras-tuner) (1.26.4)\n",
      "Requirement already satisfied: absl-py in c:\\users\\jhevish\\downloads\\handgesture28july\\env\\lib\\site-packages (from keras->keras-tuner) (2.1.0)\n",
      "Requirement already satisfied: rich in c:\\users\\jhevish\\downloads\\handgesture28july\\env\\lib\\site-packages (from keras->keras-tuner) (13.7.1)\n",
      "Requirement already satisfied: namex in c:\\users\\jhevish\\downloads\\handgesture28july\\env\\lib\\site-packages (from keras->keras-tuner) (0.0.8)\n",
      "Requirement already satisfied: ml-dtypes in c:\\users\\jhevish\\downloads\\handgesture28july\\env\\lib\\site-packages (from keras->keras-tuner) (0.4.0)\n",
      "Requirement already satisfied: certifi>=2017.4.17 in c:\\users\\jhevish\\downloads\\handgesture28july\\env\\lib\\site-packages (from requests->keras-tuner) (2024.7.4)\n",
      "Requirement already satisfied: idna<4,>=2.5 in c:\\users\\jhevish\\downloads\\handgesture28july\\env\\lib\\site-packages (from requests->keras-tuner) (3.7)\n",
      "Requirement already satisfied: urllib3<3,>=1.21.1 in c:\\users\\jhevish\\downloads\\handgesture28july\\env\\lib\\site-packages (from requests->keras-tuner) (2.2.2)\n",
      "Requirement already satisfied: charset-normalizer<4,>=2 in c:\\users\\jhevish\\downloads\\handgesture28july\\env\\lib\\site-packages (from requests->keras-tuner) (3.3.2)\n",
      "Requirement already satisfied: typing-extensions>=4.5.0 in c:\\users\\jhevish\\downloads\\handgesture28july\\env\\lib\\site-packages (from optree->keras->keras-tuner) (4.12.2)\n",
      "Requirement already satisfied: markdown-it-py>=2.2.0 in c:\\users\\jhevish\\downloads\\handgesture28july\\env\\lib\\site-packages (from rich->keras->keras-tuner) (3.0.0)\n",
      "Requirement already satisfied: pygments<3.0.0,>=2.13.0 in c:\\users\\jhevish\\downloads\\handgesture28july\\env\\lib\\site-packages (from rich->keras->keras-tuner) (2.18.0)\n",
      "Requirement already satisfied: mdurl~=0.1 in c:\\users\\jhevish\\downloads\\handgesture28july\\env\\lib\\site-packages (from markdown-it-py>=2.2.0->rich->keras->keras-tuner) (0.1.2)\n",
      "Installing collected packages: kt-legacy, keras-tuner\n",
      "Successfully installed keras-tuner-1.4.7 kt-legacy-1.0.5\n"
     ]
    },
    {
     "name": "stderr",
     "output_type": "stream",
     "text": [
      "\n",
      "[notice] A new release of pip is available: 23.0.1 -> 24.2\n",
      "[notice] To update, run: python.exe -m pip install --upgrade pip\n"
     ]
    }
   ],
   "source": [
    "!pip install keras-tuner\n"
   ]
  },
  {
   "cell_type": "code",
   "execution_count": null,
   "id": "4cd6657c-8719-449c-bd12-86b947d13d5a",
   "metadata": {},
   "outputs": [],
   "source": []
  }
 ],
 "metadata": {
  "kernelspec": {
   "display_name": "Python 3 (ipykernel)",
   "language": "python",
   "name": "python3"
  },
  "language_info": {
   "codemirror_mode": {
    "name": "ipython",
    "version": 3
   },
   "file_extension": ".py",
   "mimetype": "text/x-python",
   "name": "python",
   "nbconvert_exporter": "python",
   "pygments_lexer": "ipython3",
   "version": "3.10.11"
  }
 },
 "nbformat": 4,
 "nbformat_minor": 5
}
